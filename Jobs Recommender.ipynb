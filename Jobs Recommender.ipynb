{
 "cells": [
  {
   "cell_type": "code",
   "execution_count": 1,
   "metadata": {},
   "outputs": [],
   "source": [
    "#Libraries\n",
    "#Helpers\n",
    "\n",
    "#EDA initial\n",
    "#Preprocessing\n",
    "#Eda Final\n",
    "#Second Preprocessing\n",
    "\n",
    "#Preprocessing Pipeline\n",
    "#Model Core Pipeline\n",
    "#Model Output Pipeline\n",
    "\n",
    "#Testing\n"
   ]
  },
  {
   "cell_type": "markdown",
   "metadata": {},
   "source": [
    "## Helpers"
   ]
  },
  {
   "cell_type": "code",
   "execution_count": 3,
   "metadata": {},
   "outputs": [],
   "source": [
    "\n",
    "def preprocessor(text):\n",
    "    text = text.replace('\\\\r', '').replace('&nbsp', '').replace('\\n', '')\n",
    "    text = re.sub('<[^>]*>', '', text)\n",
    "    emoticons = re.findall('(?::|;|=)(?:-)?(?:\\)|\\(|D|P)', text)\n",
    "    text = re.sub('[\\W]+', ' ', text.lower()) +\\\n",
    "        ' '.join(emoticons).replace('-', '')\n",
    "    return text"
   ]
  },
  {
   "cell_type": "code",
   "execution_count": 4,
   "metadata": {},
   "outputs": [],
   "source": [
    "\n",
    "def coordinates(zipcode):\n",
    "    zipcode = search.by_zipcode(zipcode)\n",
    "    community = zipcode.post_office_city\n",
    "    return community, \"{},{}\".format(zipcode.lat, zipcode.lng)\n",
    "\n",
    "def creating_coordinates(df, column):\n",
    "    df[\"Community\"] = \"\"\n",
    "    df[\"Coordinates\"] = \"None, None\"\n",
    "    for zipcode in df[column].unique():\n",
    "        community, coordinate = coordinates(zipcode)\n",
    "        df.loc[df[column] == zipcode, \"Coordinates\"] =  str(coordinate)\n",
    "        df.loc[df[column] == zipcode, \"Community\"] =  community\n",
    "    return df"
   ]
  },
  {
   "cell_type": "code",
   "execution_count": 5,
   "metadata": {},
   "outputs": [],
   "source": [
    "def user_exist(user):\n",
    "    if len(users.loc[users['UserID'] == user]) == 0:\n",
    "        return False\n",
    "    return True\n",
    "\n",
    "def has_coordinates(user):\n",
    "    c = users.loc[users['UserID'] == user, \"Coordinates\"] \n",
    "\n",
    "    if (len(c) == 0) or (c.iloc[0].split(',')[0]) == 'None':\n",
    "        return False\n",
    "    return True\n",
    "    \n"
   ]
  },
  {
   "cell_type": "code",
   "execution_count": 6,
   "metadata": {},
   "outputs": [],
   "source": [
    "def user_profile(user_id):\n",
    "    user_profile = np.array(users.loc[users['UserID'] == user_id, ['DegreeType', 'Major']])[0]\n",
    "    historical_apps = user_history.loc[user_history.UserID == user_id, 'JobTitle']\n",
    "    user_profile = \"\"\"\n",
    "    Degree Type: {}\n",
    "    Major: {}\n",
    "    \"\"\".format(user_profile[0], user_profile[1])\n",
    "\n",
    "    return user_profile\n",
    "\n",
    "def historical_application(user_id):\n",
    "    historical_apps = apps.loc[apps.UserID == user_id]['JobID']\n",
    "    content = list()\n",
    "    for application in historical_apps:\n",
    "        temp = jobs.loc[jobs.JobID == application, ['Title', 'Description', 'Requirements']]\n",
    "        if len(temp) != 0:\n",
    "            content += [temp.Title.values + \". \" + temp.Description.values + \". \" + temp.Requirements.values]\n",
    "    return content\n"
   ]
  },
  {
   "cell_type": "code",
   "execution_count": 8,
   "metadata": {},
   "outputs": [],
   "source": [
    "class EpochLogger(CallbackAny2Vec):\n",
    "    '''Callback to log information about training'''\n",
    "\n",
    "    def __init__(self):\n",
    "        self.epoch = 0\n",
    "\n",
    "    def on_epoch_begin(self, model):\n",
    "        print(\"Epoch #{} start\".format(self.epoch))\n",
    "        self.epoch += 1\n",
    "        "
   ]
  },
  {
   "cell_type": "markdown",
   "metadata": {},
   "source": [
    "### Libraries"
   ]
  },
  {
   "cell_type": "code",
   "execution_count": 7,
   "metadata": {
    "pycharm": {
     "is_executing": false
    }
   },
   "outputs": [],
   "source": [
    "%matplotlib inline\n",
    "import matplotlib.pyplot as plt\n",
    "import seaborn as sns\n",
    "import pandas as pd\n",
    "import numpy as np\n",
    "import ast \n",
    "from scipy import stats\n",
    "from ast import literal_eval\n",
    "from sklearn.feature_extraction.text import TfidfVectorizer, CountVectorizer\n",
    "from sklearn.metrics.pairwise import linear_kernel, cosine_similarity\n",
    "# from nltk.stem.snowball import SnowballStemmer\n",
    "# from nltk.stem.wordnet import WordNetLemmatizer\n",
    "# from nltk.corpus import wordnet\n",
    "# from surprise import Reader, Dataset, SVD, evaluate\n",
    "from gensim.models import Doc2Vec\n",
    "import gensim.models.doc2vec\n",
    "from collections import OrderedDict\n",
    "import multiprocessing\n",
    "\n",
    "from gensim.models.doc2vec import Doc2Vec, TaggedDocument\n",
    "from gensim.utils import simple_preprocess\n",
    "from gensim.test.utils import get_tmpfile\n",
    "from gensim.models.callbacks import CallbackAny2Vec\n",
    "\n",
    "import pickle\n",
    "\n",
    "from uszipcode import SearchEngine\n",
    "from  geopy.distance import distance\n",
    "\n",
    "import gc\n",
    "import re\n",
    "\n",
    "import warnings; warnings.simplefilter('ignore')"
   ]
  },
  {
   "cell_type": "markdown",
   "metadata": {},
   "source": [
    "#### Checking Cores"
   ]
  },
  {
   "cell_type": "code",
   "execution_count": 9,
   "metadata": {},
   "outputs": [],
   "source": [
    "assert gensim.models.doc2vec.FAST_VERSION > -1, \"SLOW VERSION\""
   ]
  },
  {
   "cell_type": "code",
   "execution_count": 10,
   "metadata": {},
   "outputs": [],
   "source": [
    "MAX_DISTANCE = 15\n",
    "\n",
    "#!dir .\\Data\\*.tsv"
   ]
  },
  {
   "cell_type": "markdown",
   "metadata": {},
   "source": [
    "### Reading Data"
   ]
  },
  {
   "cell_type": "code",
   "execution_count": 11,
   "metadata": {},
   "outputs": [
    {
     "name": "stderr",
     "output_type": "stream",
     "text": [
      "b'Skipping line 122433: expected 11 fields, saw 12\\n'\n",
      "b'Skipping line 602576: expected 11 fields, saw 12\\n'\n",
      "b'Skipping line 990950: expected 11 fields, saw 12\\n'\n"
     ]
    }
   ],
   "source": [
    "folder = 'Data'\n",
    "\n",
    "apps = pd.read_csv('./'+folder+'/apps.tsv', delimiter='\\t',encoding='utf-8')\n",
    "user_history = pd.read_csv('./'+folder+'/user_history.tsv', delimiter='\\t',encoding='utf-8')\n",
    "jobs = pd.read_csv('./'+folder+'/jobs.tsv', delimiter='\\t',encoding='utf-8', error_bad_lines=False)\n",
    "users = pd.read_csv('./'+folder+'/users.tsv' ,delimiter='\\t',encoding='utf-8')\n",
    "test_users = pd.read_csv('./'+folder+'/test_users.tsv', delimiter='\\t',encoding='utf-8')\n"
   ]
  },
  {
   "cell_type": "markdown",
   "metadata": {},
   "source": [
    "### EDA 1"
   ]
  },
  {
   "cell_type": "code",
   "execution_count": 12,
   "metadata": {},
   "outputs": [
    {
     "data": {
      "text/html": [
       "<div>\n",
       "<style scoped>\n",
       "    .dataframe tbody tr th:only-of-type {\n",
       "        vertical-align: middle;\n",
       "    }\n",
       "\n",
       "    .dataframe tbody tr th {\n",
       "        vertical-align: top;\n",
       "    }\n",
       "\n",
       "    .dataframe thead th {\n",
       "        text-align: right;\n",
       "    }\n",
       "</style>\n",
       "<table border=\"1\" class=\"dataframe\">\n",
       "  <thead>\n",
       "    <tr style=\"text-align: right;\">\n",
       "      <th></th>\n",
       "      <th>UserID</th>\n",
       "      <th>WindowID</th>\n",
       "      <th>Split</th>\n",
       "      <th>ApplicationDate</th>\n",
       "      <th>JobID</th>\n",
       "    </tr>\n",
       "  </thead>\n",
       "  <tbody>\n",
       "    <tr>\n",
       "      <th>0</th>\n",
       "      <td>47</td>\n",
       "      <td>1</td>\n",
       "      <td>Train</td>\n",
       "      <td>2012-04-04 15:56:23.537</td>\n",
       "      <td>169528</td>\n",
       "    </tr>\n",
       "    <tr>\n",
       "      <th>1</th>\n",
       "      <td>47</td>\n",
       "      <td>1</td>\n",
       "      <td>Train</td>\n",
       "      <td>2012-04-06 01:03:00.003</td>\n",
       "      <td>284009</td>\n",
       "    </tr>\n",
       "    <tr>\n",
       "      <th>2</th>\n",
       "      <td>47</td>\n",
       "      <td>1</td>\n",
       "      <td>Train</td>\n",
       "      <td>2012-04-05 02:40:27.753</td>\n",
       "      <td>2121</td>\n",
       "    </tr>\n",
       "    <tr>\n",
       "      <th>3</th>\n",
       "      <td>47</td>\n",
       "      <td>1</td>\n",
       "      <td>Train</td>\n",
       "      <td>2012-04-05 02:37:02.673</td>\n",
       "      <td>848187</td>\n",
       "    </tr>\n",
       "    <tr>\n",
       "      <th>4</th>\n",
       "      <td>47</td>\n",
       "      <td>1</td>\n",
       "      <td>Train</td>\n",
       "      <td>2012-04-05 22:44:06.653</td>\n",
       "      <td>733748</td>\n",
       "    </tr>\n",
       "  </tbody>\n",
       "</table>\n",
       "</div>"
      ],
      "text/plain": [
       "   UserID  WindowID  Split          ApplicationDate   JobID\n",
       "0      47         1  Train  2012-04-04 15:56:23.537  169528\n",
       "1      47         1  Train  2012-04-06 01:03:00.003  284009\n",
       "2      47         1  Train  2012-04-05 02:40:27.753    2121\n",
       "3      47         1  Train  2012-04-05 02:37:02.673  848187\n",
       "4      47         1  Train  2012-04-05 22:44:06.653  733748"
      ]
     },
     "execution_count": 12,
     "metadata": {},
     "output_type": "execute_result"
    }
   ],
   "source": [
    "apps.head()\n"
   ]
  },
  {
   "cell_type": "code",
   "execution_count": 13,
   "metadata": {
    "scrolled": true
   },
   "outputs": [
    {
     "data": {
      "text/html": [
       "<div>\n",
       "<style scoped>\n",
       "    .dataframe tbody tr th:only-of-type {\n",
       "        vertical-align: middle;\n",
       "    }\n",
       "\n",
       "    .dataframe tbody tr th {\n",
       "        vertical-align: top;\n",
       "    }\n",
       "\n",
       "    .dataframe thead th {\n",
       "        text-align: right;\n",
       "    }\n",
       "</style>\n",
       "<table border=\"1\" class=\"dataframe\">\n",
       "  <thead>\n",
       "    <tr style=\"text-align: right;\">\n",
       "      <th></th>\n",
       "      <th>UserID</th>\n",
       "      <th>WindowID</th>\n",
       "      <th>Split</th>\n",
       "      <th>Sequence</th>\n",
       "      <th>JobTitle</th>\n",
       "    </tr>\n",
       "  </thead>\n",
       "  <tbody>\n",
       "    <tr>\n",
       "      <th>0</th>\n",
       "      <td>47</td>\n",
       "      <td>1</td>\n",
       "      <td>Train</td>\n",
       "      <td>1</td>\n",
       "      <td>National Space Communication Programs-Special ...</td>\n",
       "    </tr>\n",
       "    <tr>\n",
       "      <th>1</th>\n",
       "      <td>47</td>\n",
       "      <td>1</td>\n",
       "      <td>Train</td>\n",
       "      <td>2</td>\n",
       "      <td>Detention Officer</td>\n",
       "    </tr>\n",
       "    <tr>\n",
       "      <th>2</th>\n",
       "      <td>47</td>\n",
       "      <td>1</td>\n",
       "      <td>Train</td>\n",
       "      <td>3</td>\n",
       "      <td>Passenger Screener, TSA</td>\n",
       "    </tr>\n",
       "    <tr>\n",
       "      <th>3</th>\n",
       "      <td>72</td>\n",
       "      <td>1</td>\n",
       "      <td>Train</td>\n",
       "      <td>1</td>\n",
       "      <td>Lecturer, Department of Anthropology</td>\n",
       "    </tr>\n",
       "    <tr>\n",
       "      <th>4</th>\n",
       "      <td>72</td>\n",
       "      <td>1</td>\n",
       "      <td>Train</td>\n",
       "      <td>2</td>\n",
       "      <td>Student Assistant</td>\n",
       "    </tr>\n",
       "  </tbody>\n",
       "</table>\n",
       "</div>"
      ],
      "text/plain": [
       "   UserID  WindowID  Split  Sequence  \\\n",
       "0      47         1  Train         1   \n",
       "1      47         1  Train         2   \n",
       "2      47         1  Train         3   \n",
       "3      72         1  Train         1   \n",
       "4      72         1  Train         2   \n",
       "\n",
       "                                            JobTitle  \n",
       "0  National Space Communication Programs-Special ...  \n",
       "1                                  Detention Officer  \n",
       "2                            Passenger Screener, TSA  \n",
       "3               Lecturer, Department of Anthropology  \n",
       "4                                  Student Assistant  "
      ]
     },
     "execution_count": 13,
     "metadata": {},
     "output_type": "execute_result"
    }
   ],
   "source": [
    "user_history.head()"
   ]
  },
  {
   "cell_type": "code",
   "execution_count": 14,
   "metadata": {},
   "outputs": [
    {
     "data": {
      "text/html": [
       "<div>\n",
       "<style scoped>\n",
       "    .dataframe tbody tr th:only-of-type {\n",
       "        vertical-align: middle;\n",
       "    }\n",
       "\n",
       "    .dataframe tbody tr th {\n",
       "        vertical-align: top;\n",
       "    }\n",
       "\n",
       "    .dataframe thead th {\n",
       "        text-align: right;\n",
       "    }\n",
       "</style>\n",
       "<table border=\"1\" class=\"dataframe\">\n",
       "  <thead>\n",
       "    <tr style=\"text-align: right;\">\n",
       "      <th></th>\n",
       "      <th>JobID</th>\n",
       "      <th>WindowID</th>\n",
       "      <th>Title</th>\n",
       "      <th>Description</th>\n",
       "      <th>Requirements</th>\n",
       "      <th>City</th>\n",
       "      <th>State</th>\n",
       "      <th>Country</th>\n",
       "      <th>Zip5</th>\n",
       "      <th>StartDate</th>\n",
       "      <th>EndDate</th>\n",
       "    </tr>\n",
       "  </thead>\n",
       "  <tbody>\n",
       "    <tr>\n",
       "      <th>0</th>\n",
       "      <td>1</td>\n",
       "      <td>1</td>\n",
       "      <td>Security Engineer/Technical Lead</td>\n",
       "      <td>&lt;p&gt;Security Clearance Required:&amp;nbsp; Top Secr...</td>\n",
       "      <td>&lt;p&gt;SKILL SET&lt;/p&gt;\\r&lt;p&gt;&amp;nbsp;&lt;/p&gt;\\r&lt;p&gt;Network Se...</td>\n",
       "      <td>Washington</td>\n",
       "      <td>DC</td>\n",
       "      <td>US</td>\n",
       "      <td>20531</td>\n",
       "      <td>2012-03-07 13:17:01.643</td>\n",
       "      <td>2012-04-06 23:59:59</td>\n",
       "    </tr>\n",
       "    <tr>\n",
       "      <th>1</th>\n",
       "      <td>4</td>\n",
       "      <td>1</td>\n",
       "      <td>SAP Business Analyst / WM</td>\n",
       "      <td>&lt;strong&gt;NO Corp. to Corp resumes&amp;nbsp;are bein...</td>\n",
       "      <td>&lt;p&gt;&lt;b&gt;WHAT YOU NEED: &lt;/b&gt;&lt;/p&gt;\\r&lt;p&gt;Four year co...</td>\n",
       "      <td>Charlotte</td>\n",
       "      <td>NC</td>\n",
       "      <td>US</td>\n",
       "      <td>28217</td>\n",
       "      <td>2012-03-21 02:03:44.137</td>\n",
       "      <td>2012-04-20 23:59:59</td>\n",
       "    </tr>\n",
       "    <tr>\n",
       "      <th>2</th>\n",
       "      <td>7</td>\n",
       "      <td>1</td>\n",
       "      <td>P/T HUMAN RESOURCES ASSISTANT</td>\n",
       "      <td>&lt;b&gt;    &lt;b&gt; P/T HUMAN RESOURCES ASSISTANT&lt;/b&gt; &lt;...</td>\n",
       "      <td>Please refer to the Job Description to view th...</td>\n",
       "      <td>Winter Park</td>\n",
       "      <td>FL</td>\n",
       "      <td>US</td>\n",
       "      <td>32792</td>\n",
       "      <td>2012-03-02 16:36:55.447</td>\n",
       "      <td>2012-04-01 23:59:59</td>\n",
       "    </tr>\n",
       "    <tr>\n",
       "      <th>3</th>\n",
       "      <td>8</td>\n",
       "      <td>1</td>\n",
       "      <td>Route Delivery Drivers</td>\n",
       "      <td>CITY BEVERAGES Come to work for the best in th...</td>\n",
       "      <td>Please refer to the Job Description to view th...</td>\n",
       "      <td>Orlando</td>\n",
       "      <td>FL</td>\n",
       "      <td>US</td>\n",
       "      <td>NaN</td>\n",
       "      <td>2012-03-03 09:01:10.077</td>\n",
       "      <td>2012-04-02 23:59:59</td>\n",
       "    </tr>\n",
       "    <tr>\n",
       "      <th>4</th>\n",
       "      <td>9</td>\n",
       "      <td>1</td>\n",
       "      <td>Housekeeping</td>\n",
       "      <td>I make  sure every part of their day is magica...</td>\n",
       "      <td>Please refer to the Job Description to view th...</td>\n",
       "      <td>Orlando</td>\n",
       "      <td>FL</td>\n",
       "      <td>US</td>\n",
       "      <td>NaN</td>\n",
       "      <td>2012-03-03 09:01:11.88</td>\n",
       "      <td>2012-04-02 23:59:59</td>\n",
       "    </tr>\n",
       "  </tbody>\n",
       "</table>\n",
       "</div>"
      ],
      "text/plain": [
       "   JobID  WindowID                             Title  \\\n",
       "0      1         1  Security Engineer/Technical Lead   \n",
       "1      4         1         SAP Business Analyst / WM   \n",
       "2      7         1     P/T HUMAN RESOURCES ASSISTANT   \n",
       "3      8         1            Route Delivery Drivers   \n",
       "4      9         1                      Housekeeping   \n",
       "\n",
       "                                         Description  \\\n",
       "0  <p>Security Clearance Required:&nbsp; Top Secr...   \n",
       "1  <strong>NO Corp. to Corp resumes&nbsp;are bein...   \n",
       "2  <b>    <b> P/T HUMAN RESOURCES ASSISTANT</b> <...   \n",
       "3  CITY BEVERAGES Come to work for the best in th...   \n",
       "4  I make  sure every part of their day is magica...   \n",
       "\n",
       "                                        Requirements         City State  \\\n",
       "0  <p>SKILL SET</p>\\r<p>&nbsp;</p>\\r<p>Network Se...   Washington    DC   \n",
       "1  <p><b>WHAT YOU NEED: </b></p>\\r<p>Four year co...    Charlotte    NC   \n",
       "2  Please refer to the Job Description to view th...  Winter Park    FL   \n",
       "3  Please refer to the Job Description to view th...      Orlando    FL   \n",
       "4  Please refer to the Job Description to view th...      Orlando    FL   \n",
       "\n",
       "  Country   Zip5                StartDate              EndDate  \n",
       "0      US  20531  2012-03-07 13:17:01.643  2012-04-06 23:59:59  \n",
       "1      US  28217  2012-03-21 02:03:44.137  2012-04-20 23:59:59  \n",
       "2      US  32792  2012-03-02 16:36:55.447  2012-04-01 23:59:59  \n",
       "3      US    NaN  2012-03-03 09:01:10.077  2012-04-02 23:59:59  \n",
       "4      US    NaN   2012-03-03 09:01:11.88  2012-04-02 23:59:59  "
      ]
     },
     "execution_count": 14,
     "metadata": {},
     "output_type": "execute_result"
    }
   ],
   "source": [
    "jobs.head()"
   ]
  },
  {
   "cell_type": "code",
   "execution_count": 15,
   "metadata": {},
   "outputs": [
    {
     "data": {
      "text/html": [
       "<div>\n",
       "<style scoped>\n",
       "    .dataframe tbody tr th:only-of-type {\n",
       "        vertical-align: middle;\n",
       "    }\n",
       "\n",
       "    .dataframe tbody tr th {\n",
       "        vertical-align: top;\n",
       "    }\n",
       "\n",
       "    .dataframe thead th {\n",
       "        text-align: right;\n",
       "    }\n",
       "</style>\n",
       "<table border=\"1\" class=\"dataframe\">\n",
       "  <thead>\n",
       "    <tr style=\"text-align: right;\">\n",
       "      <th></th>\n",
       "      <th>UserID</th>\n",
       "      <th>WindowID</th>\n",
       "      <th>Split</th>\n",
       "      <th>City</th>\n",
       "      <th>State</th>\n",
       "      <th>Country</th>\n",
       "      <th>ZipCode</th>\n",
       "      <th>DegreeType</th>\n",
       "      <th>Major</th>\n",
       "      <th>GraduationDate</th>\n",
       "      <th>WorkHistoryCount</th>\n",
       "      <th>TotalYearsExperience</th>\n",
       "      <th>CurrentlyEmployed</th>\n",
       "      <th>ManagedOthers</th>\n",
       "      <th>ManagedHowMany</th>\n",
       "    </tr>\n",
       "  </thead>\n",
       "  <tbody>\n",
       "    <tr>\n",
       "      <th>0</th>\n",
       "      <td>47</td>\n",
       "      <td>1</td>\n",
       "      <td>Train</td>\n",
       "      <td>Paramount</td>\n",
       "      <td>CA</td>\n",
       "      <td>US</td>\n",
       "      <td>90723</td>\n",
       "      <td>High School</td>\n",
       "      <td>NaN</td>\n",
       "      <td>1999-06-01 00:00:00</td>\n",
       "      <td>3</td>\n",
       "      <td>10.0</td>\n",
       "      <td>Yes</td>\n",
       "      <td>No</td>\n",
       "      <td>0</td>\n",
       "    </tr>\n",
       "    <tr>\n",
       "      <th>1</th>\n",
       "      <td>72</td>\n",
       "      <td>1</td>\n",
       "      <td>Train</td>\n",
       "      <td>La Mesa</td>\n",
       "      <td>CA</td>\n",
       "      <td>US</td>\n",
       "      <td>91941</td>\n",
       "      <td>Master's</td>\n",
       "      <td>Anthropology</td>\n",
       "      <td>2011-01-01 00:00:00</td>\n",
       "      <td>10</td>\n",
       "      <td>8.0</td>\n",
       "      <td>Yes</td>\n",
       "      <td>No</td>\n",
       "      <td>0</td>\n",
       "    </tr>\n",
       "    <tr>\n",
       "      <th>2</th>\n",
       "      <td>80</td>\n",
       "      <td>1</td>\n",
       "      <td>Train</td>\n",
       "      <td>Williamstown</td>\n",
       "      <td>NJ</td>\n",
       "      <td>US</td>\n",
       "      <td>08094</td>\n",
       "      <td>High School</td>\n",
       "      <td>Not Applicable</td>\n",
       "      <td>1985-06-01 00:00:00</td>\n",
       "      <td>5</td>\n",
       "      <td>11.0</td>\n",
       "      <td>Yes</td>\n",
       "      <td>Yes</td>\n",
       "      <td>5</td>\n",
       "    </tr>\n",
       "    <tr>\n",
       "      <th>3</th>\n",
       "      <td>98</td>\n",
       "      <td>1</td>\n",
       "      <td>Train</td>\n",
       "      <td>Astoria</td>\n",
       "      <td>NY</td>\n",
       "      <td>US</td>\n",
       "      <td>11105</td>\n",
       "      <td>Master's</td>\n",
       "      <td>Journalism</td>\n",
       "      <td>2007-05-01 00:00:00</td>\n",
       "      <td>3</td>\n",
       "      <td>3.0</td>\n",
       "      <td>Yes</td>\n",
       "      <td>No</td>\n",
       "      <td>0</td>\n",
       "    </tr>\n",
       "    <tr>\n",
       "      <th>4</th>\n",
       "      <td>123</td>\n",
       "      <td>1</td>\n",
       "      <td>Train</td>\n",
       "      <td>Baton Rouge</td>\n",
       "      <td>LA</td>\n",
       "      <td>US</td>\n",
       "      <td>70808</td>\n",
       "      <td>Bachelor's</td>\n",
       "      <td>Agricultural Business</td>\n",
       "      <td>2011-05-01 00:00:00</td>\n",
       "      <td>1</td>\n",
       "      <td>9.0</td>\n",
       "      <td>Yes</td>\n",
       "      <td>No</td>\n",
       "      <td>0</td>\n",
       "    </tr>\n",
       "  </tbody>\n",
       "</table>\n",
       "</div>"
      ],
      "text/plain": [
       "   UserID  WindowID  Split          City State Country ZipCode   DegreeType  \\\n",
       "0      47         1  Train     Paramount    CA      US   90723  High School   \n",
       "1      72         1  Train       La Mesa    CA      US   91941     Master's   \n",
       "2      80         1  Train  Williamstown    NJ      US   08094  High School   \n",
       "3      98         1  Train       Astoria    NY      US   11105     Master's   \n",
       "4     123         1  Train   Baton Rouge    LA      US   70808   Bachelor's   \n",
       "\n",
       "                   Major       GraduationDate  WorkHistoryCount  \\\n",
       "0                    NaN  1999-06-01 00:00:00                 3   \n",
       "1           Anthropology  2011-01-01 00:00:00                10   \n",
       "2         Not Applicable  1985-06-01 00:00:00                 5   \n",
       "3             Journalism  2007-05-01 00:00:00                 3   \n",
       "4  Agricultural Business  2011-05-01 00:00:00                 1   \n",
       "\n",
       "   TotalYearsExperience CurrentlyEmployed ManagedOthers  ManagedHowMany  \n",
       "0                  10.0               Yes            No               0  \n",
       "1                   8.0               Yes            No               0  \n",
       "2                  11.0               Yes           Yes               5  \n",
       "3                   3.0               Yes            No               0  \n",
       "4                   9.0               Yes            No               0  "
      ]
     },
     "execution_count": 15,
     "metadata": {},
     "output_type": "execute_result"
    }
   ],
   "source": [
    "users.head()"
   ]
  },
  {
   "cell_type": "code",
   "execution_count": 16,
   "metadata": {},
   "outputs": [
    {
     "data": {
      "text/plain": [
       "389708"
      ]
     },
     "execution_count": 16,
     "metadata": {},
     "output_type": "execute_result"
    }
   ],
   "source": [
    "test_users.head()\n",
    "len(users)"
   ]
  },
  {
   "cell_type": "markdown",
   "metadata": {},
   "source": [
    "### ETL Pipeline - Preprocessing"
   ]
  },
  {
   "cell_type": "markdown",
   "metadata": {},
   "source": [
    "#### Subsetting & Sampling  NY"
   ]
  },
  {
   "cell_type": "code",
   "execution_count": 17,
   "metadata": {},
   "outputs": [
    {
     "data": {
      "text/plain": [
       "20590"
      ]
     },
     "execution_count": 17,
     "metadata": {},
     "output_type": "execute_result"
    }
   ],
   "source": [
    "users = users.loc[users.State == 'NY']\n",
    "len(users)"
   ]
  },
  {
   "cell_type": "code",
   "execution_count": 18,
   "metadata": {},
   "outputs": [
    {
     "data": {
      "text/plain": [
       "4118"
      ]
     },
     "execution_count": 18,
     "metadata": {},
     "output_type": "execute_result"
    }
   ],
   "source": [
    "users = users.sample(frac=0.2, replace=False, random_state=1)\n",
    "len(users)"
   ]
  },
  {
   "cell_type": "code",
   "execution_count": 19,
   "metadata": {},
   "outputs": [],
   "source": [
    "jobs = jobs.loc[jobs.State == 'NY']\n",
    "all_jobs = jobs.copy()\n",
    "#jobs.to_csv(\"NYjobs.tsv\",  sep='\\t',encoding='utf-8')"
   ]
  },
  {
   "cell_type": "markdown",
   "metadata": {},
   "source": [
    "#### Subsetting jobs with zipcode for testing distance feature"
   ]
  },
  {
   "cell_type": "code",
   "execution_count": 20,
   "metadata": {},
   "outputs": [],
   "source": [
    "jobs.Zip5 = jobs.Zip5.fillna(0)\n",
    "jobs.Zip5 = jobs.Zip5.astype(int)\n",
    "jobs = jobs.loc[jobs['Zip5'] != 0]"
   ]
  },
  {
   "cell_type": "code",
   "execution_count": 21,
   "metadata": {},
   "outputs": [
    {
     "data": {
      "text/plain": [
       "33679"
      ]
     },
     "execution_count": 21,
     "metadata": {},
     "output_type": "execute_result"
    }
   ],
   "source": [
    "len(jobs)"
   ]
  },
  {
   "cell_type": "code",
   "execution_count": 22,
   "metadata": {},
   "outputs": [
    {
     "data": {
      "text/plain": [
       "6736"
      ]
     },
     "execution_count": 22,
     "metadata": {},
     "output_type": "execute_result"
    }
   ],
   "source": [
    "jobs = jobs.sample(frac=0.2, replace=False, random_state=1)\n",
    "len(jobs)"
   ]
  },
  {
   "cell_type": "markdown",
   "metadata": {},
   "source": [
    "#### Clearning Memory"
   ]
  },
  {
   "cell_type": "code",
   "execution_count": 23,
   "metadata": {},
   "outputs": [
    {
     "data": {
      "text/plain": [
       "0"
      ]
     },
     "execution_count": 23,
     "metadata": {},
     "output_type": "execute_result"
    }
   ],
   "source": [
    "gc.collect()"
   ]
  },
  {
   "cell_type": "markdown",
   "metadata": {},
   "source": [
    "#### Creating jobs coordinates and Communities"
   ]
  },
  {
   "cell_type": "code",
   "execution_count": 24,
   "metadata": {},
   "outputs": [
    {
     "name": "stdout",
     "output_type": "stream",
     "text": [
      "Start downloading data for simple zipcode database, total size 9MB ...\n",
      "  1 MB finished ...\n",
      "  2 MB finished ...\n",
      "  3 MB finished ...\n",
      "  4 MB finished ...\n",
      "  5 MB finished ...\n",
      "  6 MB finished ...\n",
      "  7 MB finished ...\n",
      "  8 MB finished ...\n",
      "  9 MB finished ...\n",
      "  10 MB finished ...\n",
      "  Complete!\n"
     ]
    }
   ],
   "source": [
    "search = SearchEngine(simple_zipcode=True)"
   ]
  },
  {
   "cell_type": "code",
   "execution_count": 25,
   "metadata": {},
   "outputs": [],
   "source": [
    "\n",
    "search.by_zipcode(\"2e\").lat"
   ]
  },
  {
   "cell_type": "code",
   "execution_count": 26,
   "metadata": {},
   "outputs": [
    {
     "name": "stdout",
     "output_type": "stream",
     "text": [
      "788 ms ± 44 ms per loop (mean ± std. dev. of 7 runs, 1 loop each)\n"
     ]
    }
   ],
   "source": [
    "%%timeit\n",
    "jobs[\"Community\"] = \"\"\n",
    "jobs[\"Coordinates\"] = \"\"\n",
    "for zipcode in jobs.Zip5.unique():\n",
    "    community, coordinate = coordinates(zipcode)\n",
    "    jobs.loc[jobs.Zip5 == zipcode, \"Coordinates\"] =  str(coordinate)\n",
    "    jobs.loc[jobs.Zip5 == zipcode, \"Community\"] =  community"
   ]
  },
  {
   "cell_type": "markdown",
   "metadata": {},
   "source": [
    "#### Creating user coordinates"
   ]
  },
  {
   "cell_type": "code",
   "execution_count": 27,
   "metadata": {},
   "outputs": [],
   "source": [
    "users = creating_coordinates(users, 'ZipCode')"
   ]
  },
  {
   "cell_type": "markdown",
   "metadata": {},
   "source": [
    "#### Cleaning Description and Requirements"
   ]
  },
  {
   "cell_type": "code",
   "execution_count": 28,
   "metadata": {},
   "outputs": [],
   "source": [
    "jobs['Description'] = jobs['Description'].astype(dtype='str').apply(preprocessor)"
   ]
  },
  {
   "cell_type": "code",
   "execution_count": 29,
   "metadata": {},
   "outputs": [],
   "source": [
    "jobs['Requirements'] = jobs['Requirements'].astype(dtype='str').apply(preprocessor)"
   ]
  },
  {
   "cell_type": "markdown",
   "metadata": {},
   "source": [
    "#### Making jobs profiles"
   ]
  },
  {
   "cell_type": "code",
   "execution_count": 30,
   "metadata": {},
   "outputs": [],
   "source": [
    "jobs['profile'] = jobs['Title'].astype(str)  +  '. ' + jobs['Requirements'].astype(str) +  '. ' + jobs['Description'].astype(str) "
   ]
  },
  {
   "cell_type": "markdown",
   "metadata": {},
   "source": [
    "#### Making users profiles"
   ]
  },
  {
   "cell_type": "code",
   "execution_count": 31,
   "metadata": {},
   "outputs": [
    {
     "name": "stdout",
     "output_type": "stream",
     "text": [
      "8.67 ms ± 835 µs per loop (mean ± std. dev. of 7 runs, 100 loops each)\n"
     ]
    }
   ],
   "source": [
    "%%timeit\n",
    "\n",
    "users['profile'] =  (users['Major'].astype(str) +  \" \" ) + (users['DegreeType'].astype(str) + \" \")\n",
    "\n",
    "#Cleaning Garbage Words\n",
    "users['profile'] = users['profile'].str.replace('None.', ' ')\n",
    "users['profile'] = users['profile'].str.replace('Not Applicable', ' ')\n",
    "users['profile'] = users['profile'].str.replace('nan', ' ') \n"
   ]
  },
  {
   "cell_type": "markdown",
   "metadata": {},
   "source": [
    "### EDA 2"
   ]
  },
  {
   "cell_type": "markdown",
   "metadata": {
    "tags": []
   },
   "source": [
    "#### Jobs by Communmties/County"
   ]
  },
  {
   "cell_type": "code",
   "execution_count": 32,
   "metadata": {},
   "outputs": [
    {
     "data": {
      "text/html": [
       "<div>\n",
       "<style scoped>\n",
       "    .dataframe tbody tr th:only-of-type {\n",
       "        vertical-align: middle;\n",
       "    }\n",
       "\n",
       "    .dataframe tbody tr th {\n",
       "        vertical-align: top;\n",
       "    }\n",
       "\n",
       "    .dataframe thead th {\n",
       "        text-align: right;\n",
       "    }\n",
       "</style>\n",
       "<table border=\"1\" class=\"dataframe\">\n",
       "  <thead>\n",
       "    <tr style=\"text-align: right;\">\n",
       "      <th></th>\n",
       "      <th>Community</th>\n",
       "      <th>Count</th>\n",
       "    </tr>\n",
       "  </thead>\n",
       "  <tbody>\n",
       "    <tr>\n",
       "      <th>272</th>\n",
       "      <td>New York, NY</td>\n",
       "      <td>2079</td>\n",
       "    </tr>\n",
       "    <tr>\n",
       "      <th>335</th>\n",
       "      <td>Rochester, NY</td>\n",
       "      <td>329</td>\n",
       "    </tr>\n",
       "    <tr>\n",
       "      <th>47</th>\n",
       "      <td>Buffalo, NY</td>\n",
       "      <td>241</td>\n",
       "    </tr>\n",
       "    <tr>\n",
       "      <th>45</th>\n",
       "      <td>Brooklyn, NY</td>\n",
       "      <td>228</td>\n",
       "    </tr>\n",
       "    <tr>\n",
       "      <th>43</th>\n",
       "      <td>Bronx, NY</td>\n",
       "      <td>165</td>\n",
       "    </tr>\n",
       "    <tr>\n",
       "      <th>243</th>\n",
       "      <td>Melville, NY</td>\n",
       "      <td>141</td>\n",
       "    </tr>\n",
       "    <tr>\n",
       "      <th>0</th>\n",
       "      <td>Albany, NY</td>\n",
       "      <td>109</td>\n",
       "    </tr>\n",
       "    <tr>\n",
       "      <th>417</th>\n",
       "      <td>White Plains, NY</td>\n",
       "      <td>109</td>\n",
       "    </tr>\n",
       "    <tr>\n",
       "      <th>374</th>\n",
       "      <td>Syracuse, NY</td>\n",
       "      <td>91</td>\n",
       "    </tr>\n",
       "    <tr>\n",
       "      <th>163</th>\n",
       "      <td>Hauppauge, NY</td>\n",
       "      <td>75</td>\n",
       "    </tr>\n",
       "    <tr>\n",
       "      <th>139</th>\n",
       "      <td>Garden City, NY</td>\n",
       "      <td>65</td>\n",
       "    </tr>\n",
       "    <tr>\n",
       "      <th>323</th>\n",
       "      <td>Poughkeepsie, NY</td>\n",
       "      <td>48</td>\n",
       "    </tr>\n",
       "    <tr>\n",
       "      <th>124</th>\n",
       "      <td>Farmingdale, NY</td>\n",
       "      <td>47</td>\n",
       "    </tr>\n",
       "    <tr>\n",
       "      <th>35</th>\n",
       "      <td>Binghamton, NY</td>\n",
       "      <td>47</td>\n",
       "    </tr>\n",
       "    <tr>\n",
       "      <th>118</th>\n",
       "      <td>Elmira, NY</td>\n",
       "      <td>43</td>\n",
       "    </tr>\n",
       "    <tr>\n",
       "      <th>226</th>\n",
       "      <td>Long Island City, NY</td>\n",
       "      <td>41</td>\n",
       "    </tr>\n",
       "    <tr>\n",
       "      <th>274</th>\n",
       "      <td>Newburgh, NY</td>\n",
       "      <td>37</td>\n",
       "    </tr>\n",
       "    <tr>\n",
       "      <th>268</th>\n",
       "      <td>New Hyde Park, NY</td>\n",
       "      <td>36</td>\n",
       "    </tr>\n",
       "    <tr>\n",
       "      <th>426</th>\n",
       "      <td>Yonkers, NY</td>\n",
       "      <td>36</td>\n",
       "    </tr>\n",
       "    <tr>\n",
       "      <th>193</th>\n",
       "      <td>Ithaca, NY</td>\n",
       "      <td>33</td>\n",
       "    </tr>\n",
       "  </tbody>\n",
       "</table>\n",
       "</div>"
      ],
      "text/plain": [
       "                Community  Count\n",
       "272          New York, NY   2079\n",
       "335         Rochester, NY    329\n",
       "47            Buffalo, NY    241\n",
       "45           Brooklyn, NY    228\n",
       "43              Bronx, NY    165\n",
       "243          Melville, NY    141\n",
       "0              Albany, NY    109\n",
       "417      White Plains, NY    109\n",
       "374          Syracuse, NY     91\n",
       "163         Hauppauge, NY     75\n",
       "139       Garden City, NY     65\n",
       "323      Poughkeepsie, NY     48\n",
       "124       Farmingdale, NY     47\n",
       "35         Binghamton, NY     47\n",
       "118            Elmira, NY     43\n",
       "226  Long Island City, NY     41\n",
       "274          Newburgh, NY     37\n",
       "268     New Hyde Park, NY     36\n",
       "426           Yonkers, NY     36\n",
       "193            Ithaca, NY     33"
      ]
     },
     "execution_count": 32,
     "metadata": {},
     "output_type": "execute_result"
    }
   ],
   "source": [
    "jobs.groupby(['Community']).size().reset_index(name='Count').sort_values('Count', ascending=False).head(20)"
   ]
  },
  {
   "cell_type": "markdown",
   "metadata": {},
   "source": [
    "#### Jobs by zipcodes"
   ]
  },
  {
   "cell_type": "code",
   "execution_count": 33,
   "metadata": {},
   "outputs": [
    {
     "data": {
      "text/html": [
       "<div>\n",
       "<style scoped>\n",
       "    .dataframe tbody tr th:only-of-type {\n",
       "        vertical-align: middle;\n",
       "    }\n",
       "\n",
       "    .dataframe tbody tr th {\n",
       "        vertical-align: top;\n",
       "    }\n",
       "\n",
       "    .dataframe thead th {\n",
       "        text-align: right;\n",
       "    }\n",
       "</style>\n",
       "<table border=\"1\" class=\"dataframe\">\n",
       "  <thead>\n",
       "    <tr style=\"text-align: right;\">\n",
       "      <th></th>\n",
       "      <th>Community</th>\n",
       "      <th>Zip5</th>\n",
       "      <th>Coordinates</th>\n",
       "      <th>Count</th>\n",
       "    </tr>\n",
       "  </thead>\n",
       "  <tbody>\n",
       "    <tr>\n",
       "      <th>386</th>\n",
       "      <td>New York, NY</td>\n",
       "      <td>10001</td>\n",
       "      <td>40.75,-73.99</td>\n",
       "      <td>633</td>\n",
       "    </tr>\n",
       "    <tr>\n",
       "      <th>399</th>\n",
       "      <td>New York, NY</td>\n",
       "      <td>10017</td>\n",
       "      <td>40.75,-73.973</td>\n",
       "      <td>212</td>\n",
       "    </tr>\n",
       "    <tr>\n",
       "      <th>398</th>\n",
       "      <td>New York, NY</td>\n",
       "      <td>10016</td>\n",
       "      <td>40.74,-73.97</td>\n",
       "      <td>143</td>\n",
       "    </tr>\n",
       "    <tr>\n",
       "      <th>354</th>\n",
       "      <td>Melville, NY</td>\n",
       "      <td>11747</td>\n",
       "      <td>40.79,-73.4</td>\n",
       "      <td>141</td>\n",
       "    </tr>\n",
       "    <tr>\n",
       "      <th>416</th>\n",
       "      <td>New York, NY</td>\n",
       "      <td>10036</td>\n",
       "      <td>40.76,-73.99</td>\n",
       "      <td>134</td>\n",
       "    </tr>\n",
       "    <tr>\n",
       "      <th>400</th>\n",
       "      <td>New York, NY</td>\n",
       "      <td>10018</td>\n",
       "      <td>40.76,-73.99</td>\n",
       "      <td>118</td>\n",
       "    </tr>\n",
       "    <tr>\n",
       "      <th>404</th>\n",
       "      <td>New York, NY</td>\n",
       "      <td>10022</td>\n",
       "      <td>40.76,-73.97</td>\n",
       "      <td>97</td>\n",
       "    </tr>\n",
       "    <tr>\n",
       "      <th>390</th>\n",
       "      <td>New York, NY</td>\n",
       "      <td>10005</td>\n",
       "      <td>40.705,-74.005</td>\n",
       "      <td>90</td>\n",
       "    </tr>\n",
       "    <tr>\n",
       "      <th>83</th>\n",
       "      <td>Brooklyn, NY</td>\n",
       "      <td>11201</td>\n",
       "      <td>40.7,-73.99</td>\n",
       "      <td>87</td>\n",
       "    </tr>\n",
       "    <tr>\n",
       "      <th>401</th>\n",
       "      <td>New York, NY</td>\n",
       "      <td>10019</td>\n",
       "      <td>40.77,-73.99</td>\n",
       "      <td>76</td>\n",
       "    </tr>\n",
       "    <tr>\n",
       "      <th>267</th>\n",
       "      <td>Hauppauge, NY</td>\n",
       "      <td>11788</td>\n",
       "      <td>40.82,-73.21</td>\n",
       "      <td>75</td>\n",
       "    </tr>\n",
       "    <tr>\n",
       "      <th>431</th>\n",
       "      <td>New York, NY</td>\n",
       "      <td>10167</td>\n",
       "      <td>40.755,-73.975</td>\n",
       "      <td>71</td>\n",
       "    </tr>\n",
       "    <tr>\n",
       "      <th>389</th>\n",
       "      <td>New York, NY</td>\n",
       "      <td>10004</td>\n",
       "      <td>40.7,-74.02</td>\n",
       "      <td>67</td>\n",
       "    </tr>\n",
       "    <tr>\n",
       "      <th>240</th>\n",
       "      <td>Garden City, NY</td>\n",
       "      <td>11530</td>\n",
       "      <td>40.73,-73.64</td>\n",
       "      <td>65</td>\n",
       "    </tr>\n",
       "    <tr>\n",
       "      <th>643</th>\n",
       "      <td>White Plains, NY</td>\n",
       "      <td>10601</td>\n",
       "      <td>41.03,-73.76</td>\n",
       "      <td>64</td>\n",
       "    </tr>\n",
       "    <tr>\n",
       "      <th>527</th>\n",
       "      <td>Rochester, NY</td>\n",
       "      <td>14623</td>\n",
       "      <td>43.09,-77.65</td>\n",
       "      <td>51</td>\n",
       "    </tr>\n",
       "    <tr>\n",
       "      <th>3</th>\n",
       "      <td>Albany, NY</td>\n",
       "      <td>12205</td>\n",
       "      <td>42.72,-73.83</td>\n",
       "      <td>48</td>\n",
       "    </tr>\n",
       "    <tr>\n",
       "      <th>221</th>\n",
       "      <td>Farmingdale, NY</td>\n",
       "      <td>11735</td>\n",
       "      <td>40.73,-73.43</td>\n",
       "      <td>47</td>\n",
       "    </tr>\n",
       "    <tr>\n",
       "      <th>393</th>\n",
       "      <td>New York, NY</td>\n",
       "      <td>10010</td>\n",
       "      <td>40.73,-73.98</td>\n",
       "      <td>45</td>\n",
       "    </tr>\n",
       "    <tr>\n",
       "      <th>132</th>\n",
       "      <td>Buffalo, NY</td>\n",
       "      <td>14221</td>\n",
       "      <td>42.99,-78.73</td>\n",
       "      <td>43</td>\n",
       "    </tr>\n",
       "  </tbody>\n",
       "</table>\n",
       "</div>"
      ],
      "text/plain": [
       "            Community   Zip5     Coordinates  Count\n",
       "386      New York, NY  10001    40.75,-73.99    633\n",
       "399      New York, NY  10017   40.75,-73.973    212\n",
       "398      New York, NY  10016    40.74,-73.97    143\n",
       "354      Melville, NY  11747     40.79,-73.4    141\n",
       "416      New York, NY  10036    40.76,-73.99    134\n",
       "400      New York, NY  10018    40.76,-73.99    118\n",
       "404      New York, NY  10022    40.76,-73.97     97\n",
       "390      New York, NY  10005  40.705,-74.005     90\n",
       "83       Brooklyn, NY  11201     40.7,-73.99     87\n",
       "401      New York, NY  10019    40.77,-73.99     76\n",
       "267     Hauppauge, NY  11788    40.82,-73.21     75\n",
       "431      New York, NY  10167  40.755,-73.975     71\n",
       "389      New York, NY  10004     40.7,-74.02     67\n",
       "240   Garden City, NY  11530    40.73,-73.64     65\n",
       "643  White Plains, NY  10601    41.03,-73.76     64\n",
       "527     Rochester, NY  14623    43.09,-77.65     51\n",
       "3          Albany, NY  12205    42.72,-73.83     48\n",
       "221   Farmingdale, NY  11735    40.73,-73.43     47\n",
       "393      New York, NY  10010    40.73,-73.98     45\n",
       "132       Buffalo, NY  14221    42.99,-78.73     43"
      ]
     },
     "execution_count": 33,
     "metadata": {},
     "output_type": "execute_result"
    }
   ],
   "source": [
    "jobs.groupby(['Community', 'Zip5', 'Coordinates']).size().reset_index(name='Count').sort_values('Count', ascending=False).head(20)"
   ]
  },
  {
   "cell_type": "markdown",
   "metadata": {},
   "source": [
    "#### Users by Community"
   ]
  },
  {
   "cell_type": "code",
   "execution_count": 34,
   "metadata": {},
   "outputs": [
    {
     "data": {
      "text/html": [
       "<div>\n",
       "<style scoped>\n",
       "    .dataframe tbody tr th:only-of-type {\n",
       "        vertical-align: middle;\n",
       "    }\n",
       "\n",
       "    .dataframe tbody tr th {\n",
       "        vertical-align: top;\n",
       "    }\n",
       "\n",
       "    .dataframe thead th {\n",
       "        text-align: right;\n",
       "    }\n",
       "</style>\n",
       "<table border=\"1\" class=\"dataframe\">\n",
       "  <thead>\n",
       "    <tr style=\"text-align: right;\">\n",
       "      <th></th>\n",
       "      <th>Community</th>\n",
       "      <th>Count</th>\n",
       "    </tr>\n",
       "  </thead>\n",
       "  <tbody>\n",
       "    <tr>\n",
       "      <th>49</th>\n",
       "      <td>Brooklyn, NY</td>\n",
       "      <td>544</td>\n",
       "    </tr>\n",
       "    <tr>\n",
       "      <th>284</th>\n",
       "      <td>New York, NY</td>\n",
       "      <td>446</td>\n",
       "    </tr>\n",
       "    <tr>\n",
       "      <th>46</th>\n",
       "      <td>Bronx, NY</td>\n",
       "      <td>405</td>\n",
       "    </tr>\n",
       "    <tr>\n",
       "      <th>354</th>\n",
       "      <td>Rochester, NY</td>\n",
       "      <td>200</td>\n",
       "    </tr>\n",
       "    <tr>\n",
       "      <th>397</th>\n",
       "      <td>Staten Island, NY</td>\n",
       "      <td>90</td>\n",
       "    </tr>\n",
       "    <tr>\n",
       "      <th>208</th>\n",
       "      <td>Jamaica, NY</td>\n",
       "      <td>88</td>\n",
       "    </tr>\n",
       "    <tr>\n",
       "      <th>458</th>\n",
       "      <td>Yonkers, NY</td>\n",
       "      <td>62</td>\n",
       "    </tr>\n",
       "    <tr>\n",
       "      <th>51</th>\n",
       "      <td>Buffalo, NY</td>\n",
       "      <td>61</td>\n",
       "    </tr>\n",
       "    <tr>\n",
       "      <th>138</th>\n",
       "      <td>Flushing, NY</td>\n",
       "      <td>38</td>\n",
       "    </tr>\n",
       "    <tr>\n",
       "      <th>11</th>\n",
       "      <td>Astoria, NY</td>\n",
       "      <td>36</td>\n",
       "    </tr>\n",
       "    <tr>\n",
       "      <th>404</th>\n",
       "      <td>Syracuse, NY</td>\n",
       "      <td>30</td>\n",
       "    </tr>\n",
       "    <tr>\n",
       "      <th>444</th>\n",
       "      <td>White Plains, NY</td>\n",
       "      <td>28</td>\n",
       "    </tr>\n",
       "    <tr>\n",
       "      <th>272</th>\n",
       "      <td>Mount Vernon, NY</td>\n",
       "      <td>26</td>\n",
       "    </tr>\n",
       "    <tr>\n",
       "      <th>1</th>\n",
       "      <td>Albany, NY</td>\n",
       "      <td>25</td>\n",
       "    </tr>\n",
       "    <tr>\n",
       "      <th>336</th>\n",
       "      <td>Poughkeepsie, NY</td>\n",
       "      <td>24</td>\n",
       "    </tr>\n",
       "    <tr>\n",
       "      <th>179</th>\n",
       "      <td>Hempstead, NY</td>\n",
       "      <td>24</td>\n",
       "    </tr>\n",
       "    <tr>\n",
       "      <th>394</th>\n",
       "      <td>Springfield Gardens, NY</td>\n",
       "      <td>24</td>\n",
       "    </tr>\n",
       "    <tr>\n",
       "      <th>341</th>\n",
       "      <td>Queens Village, NY</td>\n",
       "      <td>24</td>\n",
       "    </tr>\n",
       "    <tr>\n",
       "      <th>24</th>\n",
       "      <td>Bay Shore, NY</td>\n",
       "      <td>24</td>\n",
       "    </tr>\n",
       "    <tr>\n",
       "      <th>35</th>\n",
       "      <td>Binghamton, NY</td>\n",
       "      <td>23</td>\n",
       "    </tr>\n",
       "  </tbody>\n",
       "</table>\n",
       "</div>"
      ],
      "text/plain": [
       "                   Community  Count\n",
       "49              Brooklyn, NY    544\n",
       "284             New York, NY    446\n",
       "46                 Bronx, NY    405\n",
       "354            Rochester, NY    200\n",
       "397        Staten Island, NY     90\n",
       "208              Jamaica, NY     88\n",
       "458              Yonkers, NY     62\n",
       "51               Buffalo, NY     61\n",
       "138             Flushing, NY     38\n",
       "11               Astoria, NY     36\n",
       "404             Syracuse, NY     30\n",
       "444         White Plains, NY     28\n",
       "272         Mount Vernon, NY     26\n",
       "1                 Albany, NY     25\n",
       "336         Poughkeepsie, NY     24\n",
       "179            Hempstead, NY     24\n",
       "394  Springfield Gardens, NY     24\n",
       "341       Queens Village, NY     24\n",
       "24             Bay Shore, NY     24\n",
       "35            Binghamton, NY     23"
      ]
     },
     "execution_count": 34,
     "metadata": {},
     "output_type": "execute_result"
    }
   ],
   "source": [
    "users.groupby(['Community']).size().reset_index(name='Count').sort_values('Count', ascending=False).head(20)"
   ]
  },
  {
   "cell_type": "markdown",
   "metadata": {},
   "source": [
    "### Machine Learninig Pipeline: NLP Model"
   ]
  },
  {
   "cell_type": "code",
   "execution_count": 35,
   "metadata": {
    "scrolled": true
   },
   "outputs": [
    {
     "ename": "TypeError",
     "evalue": "__init__() got an unexpected keyword argument 'size'",
     "output_type": "error",
     "traceback": [
      "\u001b[1;31m---------------------------------------------------------------------------\u001b[0m",
      "\u001b[1;31mTypeError\u001b[0m                                 Traceback (most recent call last)",
      "\u001b[1;32m<timed exec>\u001b[0m in \u001b[0;36m<module>\u001b[1;34m\u001b[0m\n",
      "\u001b[1;32m<timed exec>\u001b[0m in \u001b[0;36msimilarities_nlp_model\u001b[1;34m(model_name, mapping_name, max_epochs, alpha)\u001b[0m\n",
      "\u001b[1;32mc:\\python\\python39\\lib\\site-packages\\gensim\\models\\doc2vec.py\u001b[0m in \u001b[0;36m__init__\u001b[1;34m(self, documents, corpus_file, vector_size, dm_mean, dm, dbow_words, dm_concat, dm_tag_count, dv, dv_mapfile, comment, trim_rule, callbacks, window, epochs, shrink_windows, **kwargs)\u001b[0m\n\u001b[0;32m    292\u001b[0m         \u001b[0mself\u001b[0m\u001b[1;33m.\u001b[0m\u001b[0mdv\u001b[0m\u001b[1;33m.\u001b[0m\u001b[0mvectors_lockf\u001b[0m \u001b[1;33m=\u001b[0m \u001b[0mnp\u001b[0m\u001b[1;33m.\u001b[0m\u001b[0mones\u001b[0m\u001b[1;33m(\u001b[0m\u001b[1;36m1\u001b[0m\u001b[1;33m,\u001b[0m \u001b[0mdtype\u001b[0m\u001b[1;33m=\u001b[0m\u001b[0mREAL\u001b[0m\u001b[1;33m)\u001b[0m  \u001b[1;31m# 0.0 values suppress word-backprop-updates; 1.0 allows\u001b[0m\u001b[1;33m\u001b[0m\u001b[1;33m\u001b[0m\u001b[0m\n\u001b[0;32m    293\u001b[0m \u001b[1;33m\u001b[0m\u001b[0m\n\u001b[1;32m--> 294\u001b[1;33m         super(Doc2Vec, self).__init__(\n\u001b[0m\u001b[0;32m    295\u001b[0m             \u001b[0msentences\u001b[0m\u001b[1;33m=\u001b[0m\u001b[0mcorpus_iterable\u001b[0m\u001b[1;33m,\u001b[0m\u001b[1;33m\u001b[0m\u001b[1;33m\u001b[0m\u001b[0m\n\u001b[0;32m    296\u001b[0m             \u001b[0mcorpus_file\u001b[0m\u001b[1;33m=\u001b[0m\u001b[0mcorpus_file\u001b[0m\u001b[1;33m,\u001b[0m\u001b[1;33m\u001b[0m\u001b[1;33m\u001b[0m\u001b[0m\n",
      "\u001b[1;31mTypeError\u001b[0m: __init__() got an unexpected keyword argument 'size'"
     ]
    }
   ],
   "source": [
    "%%time\n",
    "def similarities_nlp_model( model_name = \"jobs_doc2vec_model\",\n",
    "                 mapping_name = \"jobID_mapping.p\", max_epochs = 100,\n",
    "                 alpha = 0.025):\n",
    "    \n",
    "    document = list()\n",
    "    jobID_mapping = dict()\n",
    "        \n",
    "    for i, token in enumerate(jobs['profile']):\n",
    "        value = jobs.iloc[i][\"JobID\"]\n",
    "        tokens = TaggedDocument(simple_preprocess(token), [i])\n",
    "        document.append(tokens)\n",
    "        jobID_mapping[i] = value\n",
    "\n",
    "    epoch_logger = EpochLogger()\n",
    "    model = Doc2Vec(size = 20, alpha=alpha, \n",
    "                    min_alpha=0.00025, min_count=2,\n",
    "                    callbacks=[epoch_logger], dm =1, workers=8, window=2)\n",
    "    \n",
    "    model.build_vocab(document)\n",
    "    print(model.corpus_count)\n",
    "    for epoch in range(max_epochs):\n",
    "        print('iteration {0}'.format(epoch))\n",
    "        model.train(document, \n",
    "                    total_examples=model.corpus_count, \n",
    "                    epochs=model.iter)\n",
    "        # decrease the learning rate\n",
    "        model.alpha -= 0.0002\n",
    "        # fix the learning rate, no decay\n",
    "        model.min_alpha = model.alpha\n",
    "\n",
    "    # create a dictionary\n",
    "    pickle.dump(model, open(model_name, \"wb\")) \n",
    "    pickle.dump(jobID_mapping, open(mapping_name, \"wb\")) \n",
    "\n",
    "# -------------------------------------------------------------\n",
    "# Load the dictionary back from the pickle file.\n",
    "    return model, jobID_mapping\n",
    "\n",
    "model, jobID_mapping = similarities_nlp_model()\n"
   ]
  },
  {
   "cell_type": "markdown",
   "metadata": {},
   "source": [
    "### Recommender Pipeline"
   ]
  },
  {
   "cell_type": "markdown",
   "metadata": {},
   "source": [
    "#### Recomender by popularity/Cold Star"
   ]
  },
  {
   "cell_type": "code",
   "execution_count": 46,
   "metadata": {},
   "outputs": [],
   "source": [
    "unique = 0.3 #update name\n",
    "top = 20\n",
    "\n",
    "def ranking_by_popularity(top = 100):\n",
    "    \n",
    "    popular_jobs = user_history.groupby(\n",
    "    ['JobTitle']).size().reset_index(\n",
    "    name='Count').sort_values('Count', ascending=False)\n",
    "    ranking =  dict()\n",
    "    top_i = 0\n",
    "    \n",
    "    while True:\n",
    "        job_title = popular_jobs['JobTitle'].iloc[top_i]\n",
    "        jobs_list = jobs.loc[jobs['Title'] == job_title, ['JobID']]['JobID'].unique().tolist()\n",
    "\n",
    "        if len(jobs_list) > 1:\n",
    "            ranking[job_title] = jobs_list\n",
    "\n",
    "        if len(ranking) == top:\n",
    "            break\n",
    "\n",
    "        top_i +=1\n",
    "    return ranking\n",
    "\n",
    "ranking_popular = ranking_by_popularity(top = 50)"
   ]
  },
  {
   "cell_type": "code",
   "execution_count": 37,
   "metadata": {},
   "outputs": [],
   "source": [
    "\n",
    "def recommender_popular_jobs(user_id,  top = 10):\n",
    "    \n",
    "    recommended_popular_jobs = dict()\n",
    "    c1 = users.loc[users['UserID'] == user_id, 'Coordinates']\n",
    "    count = 0\n",
    "    if user_exist(user_id) and has_coordinates(user_id):\n",
    "        for title, jobs_list in ranking_popular.items():\n",
    "            \n",
    "            distances = dict()\n",
    "        \n",
    "            for job in jobs_list:\n",
    "                \n",
    "                c2 = jobs.loc[jobs['JobID'] == job, 'Coordinates']\n",
    "                if c2.iloc[0].split(',')[0] == 'None':\n",
    "                    continue\n",
    "\n",
    "                distances[job] = round(distance(c1, c2.iloc[0]).miles, 2)\n",
    "            \n",
    "            distances = sorted(distances.items(), key=lambda kv: kv[1])\n",
    "            closest = distances[0]\n",
    "            if closest[1] >= MAX_DISTANCE:\n",
    "                continue\n",
    "            recommended_popular_jobs[title] = (closest[0], closest[1])\n",
    "            count += 1\n",
    "            if count == top:\n",
    "                break\n",
    "            \n",
    "        if len (recommended_popular_jobs) < top:\n",
    "            count = len (recommended_popular_jobs) -1\n",
    "            \n",
    "            for title, jobs_list in ranking_popular.items():\n",
    "                recommended_popular_jobs[title] = jobs_list[0]\n",
    "                count += 1\n",
    "                if count == top:\n",
    "                    break\n",
    "\n",
    "            \n",
    "    else:\n",
    "        for title, jobs_list in ranking_popular.items():\n",
    "            recommended_popular_jobs[title] = jobs_list[0]\n",
    "            count += 1\n",
    "            if count == top:\n",
    "                break\n",
    "            \n",
    "    \n",
    "    \n",
    "    return recommended_popular_jobs\n",
    "\n",
    "\n"
   ]
  },
  {
   "cell_type": "markdown",
   "metadata": {},
   "source": [
    "#### Content Based Recommender\n",
    "\n"
   ]
  },
  {
   "cell_type": "code",
   "execution_count": 45,
   "metadata": {},
   "outputs": [
    {
     "ename": "FileNotFoundError",
     "evalue": "[Errno 2] No such file or directory: 'jobID_mapping.p'",
     "output_type": "error",
     "traceback": [
      "\u001b[1;31m---------------------------------------------------------------------------\u001b[0m",
      "\u001b[1;31mFileNotFoundError\u001b[0m                         Traceback (most recent call last)",
      "\u001b[1;32m~\\AppData\\Local\\Temp/ipykernel_9700/3969673991.py\u001b[0m in \u001b[0;36m<module>\u001b[1;34m\u001b[0m\n\u001b[0;32m      1\u001b[0m \u001b[1;31m#If user has coordinates\u001b[0m\u001b[1;33m\u001b[0m\u001b[1;33m\u001b[0m\u001b[1;33m\u001b[0m\u001b[0m\n\u001b[0;32m      2\u001b[0m \u001b[1;31m#if user has info then similarties if not popularity ranker\u001b[0m\u001b[1;33m\u001b[0m\u001b[1;33m\u001b[0m\u001b[1;33m\u001b[0m\u001b[0m\n\u001b[1;32m----> 3\u001b[1;33m \u001b[0mjobID_mapping\u001b[0m \u001b[1;33m=\u001b[0m \u001b[0mpickle\u001b[0m\u001b[1;33m.\u001b[0m\u001b[0mload\u001b[0m\u001b[1;33m(\u001b[0m\u001b[0mopen\u001b[0m\u001b[1;33m(\u001b[0m\u001b[1;34m\"jobID_mapping.p\"\u001b[0m\u001b[1;33m,\u001b[0m \u001b[1;34m\"rb\"\u001b[0m\u001b[1;33m)\u001b[0m\u001b[1;33m)\u001b[0m\u001b[1;33m\u001b[0m\u001b[1;33m\u001b[0m\u001b[0m\n\u001b[0m\u001b[0;32m      4\u001b[0m \u001b[0mmodel\u001b[0m  \u001b[1;33m=\u001b[0m \u001b[0mpickle\u001b[0m\u001b[1;33m.\u001b[0m\u001b[0mload\u001b[0m\u001b[1;33m(\u001b[0m\u001b[0mopen\u001b[0m\u001b[1;33m(\u001b[0m\u001b[1;34m\"jobs_doc2vec_model\"\u001b[0m\u001b[1;33m,\u001b[0m \u001b[1;34m\"rb\"\u001b[0m\u001b[1;33m)\u001b[0m\u001b[1;33m)\u001b[0m\u001b[1;33m\u001b[0m\u001b[1;33m\u001b[0m\u001b[0m\n\u001b[0;32m      5\u001b[0m \u001b[1;33m\u001b[0m\u001b[0m\n",
      "\u001b[1;31mFileNotFoundError\u001b[0m: [Errno 2] No such file or directory: 'jobID_mapping.p'"
     ]
    }
   ],
   "source": [
    "#If user has coordinates\n",
    "#if user has info then similarties if not popularity ranker\n",
    "jobID_mapping = pickle.load(open(\"jobID_mapping.p\", \"rb\"))\n",
    "model  = pickle.load(open(\"jobs_doc2vec_model\", \"rb\"))\n",
    "\n",
    "def content_distance_based_recommender(user_id, jobID_mapping = jobID_mapping, model =  model, top = 10):\n",
    "    #As infer_vector produce stochastics result I made a for to save the best list\n",
    "    user_profile = np.array(users.loc[users['UserID'] == user_id, 'profile'])[0]\n",
    "\n",
    "    historical_apps = historical_application(user_id)\n",
    "    for application in historical_apps:\n",
    "        user_profile += \". \" + (str(application[0]) + \" \")\n",
    "    user_profile = simple_preprocess(user_profile)\n",
    "    \n",
    "    best = 0\n",
    "    tops =pd.DataFrame(index = range(top), columns = ['JobID', 'Title', 'Distance', 'Description', 'Requirements'])\n",
    "    c1 = users.loc[users['UserID'] == user_id, 'Coordinates']\n",
    "    job_distance_list = list()\n",
    "    \n",
    "    for i in range (1):\n",
    "        inferred_vector = model.infer_vector(user_profile)\n",
    "        sims = model.docvecs.most_similar([inferred_vector], topn=len(model.docvecs))\n",
    "        sum_results = 0\n",
    "        count = 0\n",
    "        total_recom = 0\n",
    "        job_distance_list = list()\n",
    "        \n",
    "        while True:\n",
    "            job_id = jobID_mapping[sims[count][0]]\n",
    "            c2 = jobs.loc[jobs['JobID'] == jobID_mapping[sims[count][0]], 'Coordinates']\n",
    "            count +=1\n",
    "            if len(c2) == 0:\n",
    "                #print(\"Empty\", sims[count][0])\n",
    "                continue\n",
    "            \n",
    "            if c2.iloc[0].split(',')[0] == 'None':\n",
    "                #print('None', sims[count][0])\n",
    "                continue\n",
    "                \n",
    "            job_distance = round(distance(c1, c2).miles, 2)\n",
    "            \n",
    "            if job_distance >= MAX_DISTANCE:\n",
    "                #print('Distance', job_distance,  sims[count][0])\n",
    "                continue\n",
    "\n",
    "            sum_results+=sims[count][1]\n",
    "            total_recom +=1\n",
    "            job_distance_list.append(job_distance)\n",
    "            if total_recom == top:\n",
    "                break\n",
    "        \n",
    "        ##Best simulation\n",
    "        if sum_results > best:\n",
    "            best = sum_results\n",
    "            best_sim = sims\n",
    "            job_distance_list2 = job_distance_list\n",
    "            \n",
    "    for i in range(top):\n",
    "        recomendation = jobID_mapping[best_sim[i][0]]\n",
    "        tops.iloc[i]['JobID', 'Title',  'Description', 'Requirements'] = np.array(jobs.loc[jobs['JobID'] == recomendation][['JobID', 'Title', \n",
    "                                                               'Description', 'Requirements']])[0]\n",
    "        tops.iloc[i]['Distance'] = job_distance_list2[i]\n",
    "    \n",
    "    return tops \n",
    " \n",
    "        "
   ]
  },
  {
   "cell_type": "code",
   "execution_count": 41,
   "metadata": {},
   "outputs": [],
   "source": [
    "def hybrid_recommender(user_id, top=10):\n",
    "    \n",
    "    if has_coordinates(user_id) and len(historical_application(user_id)) > 0:\n",
    "        print(\"Content\")\n",
    "        return content_distance_based_recommender(user_id, top = top)\n",
    "    else:\n",
    "        print(\"Cold Star\")\n",
    "        return recommender_popular_jobs(user_id,  top = top)\n",
    "    \n",
    "    \n"
   ]
  },
  {
   "cell_type": "markdown",
   "metadata": {},
   "source": [
    "### Testing"
   ]
  },
  {
   "cell_type": "code",
   "execution_count": 39,
   "metadata": {
    "scrolled": true
   },
   "outputs": [
    {
     "data": {
      "text/html": [
       "<div>\n",
       "<style scoped>\n",
       "    .dataframe tbody tr th:only-of-type {\n",
       "        vertical-align: middle;\n",
       "    }\n",
       "\n",
       "    .dataframe tbody tr th {\n",
       "        vertical-align: top;\n",
       "    }\n",
       "\n",
       "    .dataframe thead th {\n",
       "        text-align: right;\n",
       "    }\n",
       "</style>\n",
       "<table border=\"1\" class=\"dataframe\">\n",
       "  <thead>\n",
       "    <tr style=\"text-align: right;\">\n",
       "      <th></th>\n",
       "      <th>UserID</th>\n",
       "      <th>WindowID</th>\n",
       "      <th>Split</th>\n",
       "      <th>City</th>\n",
       "      <th>State</th>\n",
       "      <th>Country</th>\n",
       "      <th>ZipCode</th>\n",
       "      <th>DegreeType</th>\n",
       "      <th>Major</th>\n",
       "      <th>GraduationDate</th>\n",
       "      <th>WorkHistoryCount</th>\n",
       "      <th>TotalYearsExperience</th>\n",
       "      <th>CurrentlyEmployed</th>\n",
       "      <th>ManagedOthers</th>\n",
       "      <th>ManagedHowMany</th>\n",
       "      <th>Community</th>\n",
       "      <th>Coordinates</th>\n",
       "      <th>profile</th>\n",
       "    </tr>\n",
       "  </thead>\n",
       "  <tbody>\n",
       "    <tr>\n",
       "      <th>200098</th>\n",
       "      <td>248008</td>\n",
       "      <td>4</td>\n",
       "      <td>Train</td>\n",
       "      <td>New York</td>\n",
       "      <td>NY</td>\n",
       "      <td>US</td>\n",
       "      <td>10003</td>\n",
       "      <td>None</td>\n",
       "      <td>Electrical Engineering</td>\n",
       "      <td>NaN</td>\n",
       "      <td>2</td>\n",
       "      <td>15.0</td>\n",
       "      <td>Yes</td>\n",
       "      <td>No</td>\n",
       "      <td>0</td>\n",
       "      <td>New York, NY</td>\n",
       "      <td>40.73,-73.99</td>\n",
       "      <td>Electrical Engineering</td>\n",
       "    </tr>\n",
       "    <tr>\n",
       "      <th>286529</th>\n",
       "      <td>1184529</td>\n",
       "      <td>5</td>\n",
       "      <td>Train</td>\n",
       "      <td>New York</td>\n",
       "      <td>NY</td>\n",
       "      <td>US</td>\n",
       "      <td>10035</td>\n",
       "      <td>High School</td>\n",
       "      <td>Not Applicable</td>\n",
       "      <td>2005-01-01 00:00:00</td>\n",
       "      <td>3</td>\n",
       "      <td>7.0</td>\n",
       "      <td>NaN</td>\n",
       "      <td>No</td>\n",
       "      <td>0</td>\n",
       "      <td>New York, NY</td>\n",
       "      <td>40.8,-73.93</td>\n",
       "      <td>High School</td>\n",
       "    </tr>\n",
       "    <tr>\n",
       "      <th>57797</th>\n",
       "      <td>1122774</td>\n",
       "      <td>1</td>\n",
       "      <td>Train</td>\n",
       "      <td>New Hartford</td>\n",
       "      <td>NY</td>\n",
       "      <td>US</td>\n",
       "      <td>13413</td>\n",
       "      <td>None</td>\n",
       "      <td>Business Administration</td>\n",
       "      <td>1987-01-01 00:00:00</td>\n",
       "      <td>2</td>\n",
       "      <td>23.0</td>\n",
       "      <td>Yes</td>\n",
       "      <td>Yes</td>\n",
       "      <td>8</td>\n",
       "      <td>New Hartford, NY</td>\n",
       "      <td>43.06,-75.27</td>\n",
       "      <td>Business Administration</td>\n",
       "    </tr>\n",
       "    <tr>\n",
       "      <th>60141</th>\n",
       "      <td>1165147</td>\n",
       "      <td>1</td>\n",
       "      <td>Train</td>\n",
       "      <td>Staten Island</td>\n",
       "      <td>NY</td>\n",
       "      <td>US</td>\n",
       "      <td>10314</td>\n",
       "      <td>Bachelor's</td>\n",
       "      <td>BA/Criminal Justice</td>\n",
       "      <td>1980-06-01 00:00:00</td>\n",
       "      <td>7</td>\n",
       "      <td>35.0</td>\n",
       "      <td>Yes</td>\n",
       "      <td>Yes</td>\n",
       "      <td>200</td>\n",
       "      <td>Staten Island, NY</td>\n",
       "      <td>40.6,-74.15</td>\n",
       "      <td>BA/Criminal Justice Bachelor's</td>\n",
       "    </tr>\n",
       "    <tr>\n",
       "      <th>371308</th>\n",
       "      <td>875025</td>\n",
       "      <td>7</td>\n",
       "      <td>Train</td>\n",
       "      <td>Brooklyn</td>\n",
       "      <td>NY</td>\n",
       "      <td>US</td>\n",
       "      <td>11219</td>\n",
       "      <td>None</td>\n",
       "      <td>Business Management</td>\n",
       "      <td>2009-01-01 00:00:00</td>\n",
       "      <td>8</td>\n",
       "      <td>6.0</td>\n",
       "      <td>Yes</td>\n",
       "      <td>Yes</td>\n",
       "      <td>8</td>\n",
       "      <td>Brooklyn, NY</td>\n",
       "      <td>40.63,-74.0</td>\n",
       "      <td>Business Management</td>\n",
       "    </tr>\n",
       "  </tbody>\n",
       "</table>\n",
       "</div>"
      ],
      "text/plain": [
       "         UserID  WindowID  Split           City State Country ZipCode  \\\n",
       "200098   248008         4  Train       New York    NY      US   10003   \n",
       "286529  1184529         5  Train       New York    NY      US   10035   \n",
       "57797   1122774         1  Train   New Hartford    NY      US   13413   \n",
       "60141   1165147         1  Train  Staten Island    NY      US   10314   \n",
       "371308   875025         7  Train       Brooklyn    NY      US   11219   \n",
       "\n",
       "         DegreeType                    Major       GraduationDate  \\\n",
       "200098         None   Electrical Engineering                  NaN   \n",
       "286529  High School           Not Applicable  2005-01-01 00:00:00   \n",
       "57797          None  Business Administration  1987-01-01 00:00:00   \n",
       "60141    Bachelor's      BA/Criminal Justice  1980-06-01 00:00:00   \n",
       "371308         None      Business Management  2009-01-01 00:00:00   \n",
       "\n",
       "        WorkHistoryCount  TotalYearsExperience CurrentlyEmployed  \\\n",
       "200098                 2                  15.0               Yes   \n",
       "286529                 3                   7.0               NaN   \n",
       "57797                  2                  23.0               Yes   \n",
       "60141                  7                  35.0               Yes   \n",
       "371308                 8                   6.0               Yes   \n",
       "\n",
       "       ManagedOthers  ManagedHowMany          Community   Coordinates  \\\n",
       "200098            No               0       New York, NY  40.73,-73.99   \n",
       "286529            No               0       New York, NY   40.8,-73.93   \n",
       "57797            Yes               8   New Hartford, NY  43.06,-75.27   \n",
       "60141            Yes             200  Staten Island, NY   40.6,-74.15   \n",
       "371308           Yes               8       Brooklyn, NY   40.63,-74.0   \n",
       "\n",
       "                                profile  \n",
       "200098         Electrical Engineering    \n",
       "286529                     High School   \n",
       "57797         Business Administration    \n",
       "60141   BA/Criminal Justice Bachelor's   \n",
       "371308            Business Management    "
      ]
     },
     "execution_count": 39,
     "metadata": {},
     "output_type": "execute_result"
    }
   ],
   "source": [
    "users.head(5)"
   ]
  },
  {
   "cell_type": "code",
   "execution_count": 51,
   "metadata": {},
   "outputs": [
    {
     "name": "stdout",
     "output_type": "stream",
     "text": [
      "USER PROFILE:  \n",
      "    Degree Type: PhD\n",
      "    Major: Industrial and Systems Engineering\n",
      "    \n",
      "HISTORICAL APPLICATION CONTENT:\n",
      "\n",
      " []\n",
      "Cold Star\n"
     ]
    },
    {
     "data": {
      "text/plain": [
       "{'Customer Service Representative': 1015707,\n",
       " 'Cashier': 668223,\n",
       " 'Administrative Assistant': 617073,\n",
       " 'Sales Associate': 407797,\n",
       " 'Assistant Manager': 317522,\n",
       " 'Office Manager': 203695,\n",
       " 'Manager': 1097462,\n",
       " 'Receptionist': 518270,\n",
       " 'Customer Service': 119569,\n",
       " 'Store Manager': 1075099}"
      ]
     },
     "execution_count": 51,
     "metadata": {},
     "output_type": "execute_result"
    }
   ],
   "source": [
    "#Cold 153286, 944873\n",
    "#Content 248008, 1184529\n",
    "user_id = 944873\n",
    "\n",
    "print(\"USER PROFILE: \", user_profile(user_id))\n",
    "print(\"HISTORICAL APPLICATION CONTENT:\\n\\n\", historical_application(user_id))\n",
    "hybrid_recommender(user_id, top = 10)"
   ]
  },
  {
   "cell_type": "markdown",
   "metadata": {},
   "source": [
    "#### How many user with content?"
   ]
  },
  {
   "cell_type": "code",
   "execution_count": 43,
   "metadata": {},
   "outputs": [],
   "source": [
    "counter = 0\n",
    "for u in users.UserID.unique():\n",
    "    if len(historical_application(u)) > 0:\n",
    "        counter += 1\n"
   ]
  },
  {
   "cell_type": "code",
   "execution_count": 44,
   "metadata": {},
   "outputs": [
    {
     "name": "stdout",
     "output_type": "stream",
     "text": [
      "1204\n"
     ]
    },
    {
     "data": {
      "text/plain": [
       "0.2923749392909179"
      ]
     },
     "execution_count": 44,
     "metadata": {},
     "output_type": "execute_result"
    }
   ],
   "source": [
    "print(counter)\n",
    "counter/len(users.UserID.unique())"
   ]
  }
 ],
 "metadata": {
  "kernelspec": {
   "display_name": "Python 3 (ipykernel)",
   "language": "python",
   "name": "python3"
  },
  "language_info": {
   "codemirror_mode": {
    "name": "ipython",
    "version": 3
   },
   "file_extension": ".py",
   "mimetype": "text/x-python",
   "name": "python",
   "nbconvert_exporter": "python",
   "pygments_lexer": "ipython3",
   "version": "3.9.6"
  }
 },
 "nbformat": 4,
 "nbformat_minor": 4
}
